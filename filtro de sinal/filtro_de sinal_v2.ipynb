{
  "cells": [
    {
      "cell_type": "markdown",
      "source": [
        "Ajuste de codigo para incrementar o que o sarlo falou"
      ],
      "metadata": {
        "id": "LDEba-4JxVct"
      }
    },
    {
      "cell_type": "code",
      "source": [
        "# 1 - Importar bibliotecas necessárias\n",
        "import pandas as pd\n",
        "import os"
      ],
      "metadata": {
        "id": "3Gj5sK83yqeA"
      },
      "execution_count": 1,
      "outputs": []
    },
    {
      "cell_type": "code",
      "source": [
        "# 2 - Caminho completo para o seu arquivo CSV original\n",
        "caminho_arquivo = r'/flexão-1.csv'\n",
        "\n",
        "# Verifica se o arquivo existe\n",
        "if not os.path.exists(caminho_arquivo):\n",
        "    print(\"❌ Arquivo CSV não encontrado no caminho especificado.\")\n",
        "    exit()"
      ],
      "metadata": {
        "id": "2m44AsbJyseO"
      },
      "execution_count": 2,
      "outputs": []
    },
    {
      "cell_type": "code",
      "source": [
        "# 3 - Definir os valores mínimo e máximo permitidos\n",
        "VALOR_MIN = 1000   # você pode ajustar conforme necessário\n",
        "VALOR_MAX = 4000  # você pode ajustar conforme necessário\n"
      ],
      "metadata": {
        "id": "xdMDct-UyxdO"
      },
      "execution_count": 4,
      "outputs": []
    },
    {
      "cell_type": "code",
      "source": [
        "# 4 - Ler o arquivo CSV original\n",
        "df = pd.read_csv(caminho_arquivo)\n",
        "\n",
        "# Verifica se as colunas esperadas existem\n",
        "if 'Valor1' not in df.columns or 'Valor2' not in df.columns:\n",
        "    print(\"❌ O arquivo CSV não contém as colunas 'Valor1' e 'Valor2'.\")\n",
        "    exit()"
      ],
      "metadata": {
        "id": "flWgtk1VyyZf"
      },
      "execution_count": 5,
      "outputs": []
    },
    {
      "cell_type": "code",
      "source": [
        "# 5 - Função para remover valores fora do intervalo desejado\n",
        "def filtrar_valores(serie):\n",
        "    return serie.where((serie >= VALOR_MIN) & (serie <= VALOR_MAX), other=0)\n",
        "\n",
        "# Aplicar o filtro nas colunas de interesse\n",
        "df['Valor1_filtrado'] = filtrar_valores(df['Valor1'])\n",
        "df['Valor2_filtrado'] = filtrar_valores(df['Valor2'])"
      ],
      "metadata": {
        "id": "O0PhdJCuy0Zf"
      },
      "execution_count": 6,
      "outputs": []
    },
    {
      "cell_type": "code",
      "source": [
        "# 6 - Criar DataFrame apenas com os dados filtrados\n",
        "df_filtrado = df[['Tempo (ms)', 'Valor1_filtrado', 'Valor2_filtrado']]\n"
      ],
      "metadata": {
        "id": "rMUFxSiWy3kv"
      },
      "execution_count": 7,
      "outputs": []
    },
    {
      "cell_type": "code",
      "source": [
        "# 7 - Calcular as médias dos sinais filtrados\n",
        "media_valor1 = df_filtrado['Valor1_filtrado'].mean()\n",
        "media_valor2 = df_filtrado['Valor2_filtrado'].mean()\n",
        "\n",
        "# Adicionar as colunas de média no DataFrame\n",
        "df_filtrado['Media_Valor1'] = media_valor1\n",
        "df_filtrado['Media_Valor2'] = media_valor2"
      ],
      "metadata": {
        "id": "9r9g2mY7y4j_",
        "outputId": "506631f9-1571-4203-e040-c44f71e2885e",
        "colab": {
          "base_uri": "https://localhost:8080/"
        }
      },
      "execution_count": 8,
      "outputs": [
        {
          "output_type": "stream",
          "name": "stderr",
          "text": [
            "<ipython-input-8-2726063437>:6: SettingWithCopyWarning: \n",
            "A value is trying to be set on a copy of a slice from a DataFrame.\n",
            "Try using .loc[row_indexer,col_indexer] = value instead\n",
            "\n",
            "See the caveats in the documentation: https://pandas.pydata.org/pandas-docs/stable/user_guide/indexing.html#returning-a-view-versus-a-copy\n",
            "  df_filtrado['Media_Valor1'] = media_valor1\n"
          ]
        }
      ]
    },
    {
      "cell_type": "code",
      "source": [
        "# 8 - Salvar o novo arquivo CSV com os valores filtrados e médias\n",
        "arquivo_filtrado = 'emg_filtrado.csv'\n",
        "df_filtrado.to_csv(arquivo_filtrado, index=False)"
      ],
      "metadata": {
        "id": "G4NQIdrNy6cn"
      },
      "execution_count": 9,
      "outputs": []
    },
    {
      "cell_type": "code",
      "source": [
        "# 9 - Somar todos os valores do arquivo original (sem filtro)\n",
        "soma_valor1 = df['Valor1'].sum()\n",
        "soma_valor2 = df['Valor2'].sum()\n",
        "\n",
        "# Criar DataFrame com os resultados da soma\n",
        "df_soma = pd.DataFrame({\n",
        "    'Canal': ['Valor1', 'Valor2'],\n",
        "    'Soma': [soma_valor1, soma_valor2]\n",
        "})"
      ],
      "metadata": {
        "id": "9gOO5yl6y_-P"
      },
      "execution_count": 10,
      "outputs": []
    },
    {
      "cell_type": "code",
      "source": [
        "# 10 - Salvar as somas em um novo arquivo CSV\n",
        "arquivo_soma = 'emg_soma.csv'\n",
        "df_soma.to_csv(arquivo_soma, index=False)"
      ],
      "metadata": {
        "id": "PG8pNrRhzDgX"
      },
      "execution_count": 11,
      "outputs": []
    },
    {
      "cell_type": "code",
      "source": [
        "# 11 - Mensagens de sucesso\n",
        "print(\"✅ Processamento concluído.\")\n",
        "print(f\"📁 Arquivo com valores filtrados salvo como: {arquivo_filtrado}\")\n",
        "print(f\"📁 Arquivo com somas dos sinais salvo como: {arquivo_soma}\")\n",
        "print(f\"📊 Média dos valores filtrados - Valor1: {media_valor1:.2f} | Valor2: {media_valor2:.2f}\")\n"
      ],
      "metadata": {
        "id": "km5529zKxb__",
        "outputId": "0cf588b9-ca4e-4e89-f0c5-037d4c7f073f",
        "colab": {
          "base_uri": "https://localhost:8080/"
        }
      },
      "execution_count": 12,
      "outputs": [
        {
          "output_type": "stream",
          "name": "stdout",
          "text": [
            "✅ Processamento concluído.\n",
            "📁 Arquivo com valores filtrados salvo como: emg_filtrado.csv\n",
            "📁 Arquivo com somas dos sinais salvo como: emg_soma.csv\n",
            "📊 Média dos valores filtrados - Valor1: 510.27 | Valor2: 58.03\n"
          ]
        }
      ]
    }
  ],
  "metadata": {
    "colab": {
      "name": "Conheça o Colab",
      "provenance": []
    },
    "kernelspec": {
      "display_name": "Python 3",
      "name": "python3"
    }
  },
  "nbformat": 4,
  "nbformat_minor": 0
}