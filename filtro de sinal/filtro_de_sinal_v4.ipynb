{
  "cells": [
    {
      "cell_type": "markdown",
      "source": [
        "Ajuste de codigo para incrementar o que o sarlo falou"
      ],
      "metadata": {
        "id": "LDEba-4JxVct"
      }
    },
    {
      "cell_type": "code",
      "source": [
        "# 1 - Importar bibliotecas necessárias\n",
        "import pandas as pd\n",
        "import os"
      ],
      "metadata": {
        "id": "3Gj5sK83yqeA"
      },
      "execution_count": 42,
      "outputs": []
    },
    {
      "cell_type": "code",
      "source": [
        "import matplotlib.pyplot as plt"
      ],
      "metadata": {
        "id": "WYldDRG2h8w3"
      },
      "execution_count": 54,
      "outputs": []
    },
    {
      "cell_type": "code",
      "source": [
        "# 2 - Caminho completo para o seu arquivo CSV original\n",
        "caminho_arquivo = r'/content/punho_dados_1.csv'\n",
        "\n",
        "# Verifica se o arquivo existe\n",
        "if not os.path.exists(caminho_arquivo):\n",
        "    print(\"❌ Arquivo CSV não encontrado no caminho especificado.\")\n",
        "    exit()"
      ],
      "metadata": {
        "id": "2m44AsbJyseO"
      },
      "execution_count": 43,
      "outputs": []
    },
    {
      "cell_type": "code",
      "source": [
        "# 3 - Definir os valores mínimo e máximo permitidos\n",
        "VALOR_MIN = 500   # você pode ajustar conforme necessário\n",
        "VALOR_MAX = 4000  # você pode ajustar conforme necessário\n"
      ],
      "metadata": {
        "id": "xdMDct-UyxdO"
      },
      "execution_count": 44,
      "outputs": []
    },
    {
      "cell_type": "code",
      "source": [
        "# 4 - Ler o arquivo CSV original\n",
        "df = pd.read_csv(caminho_arquivo)\n",
        "\n",
        "# Verifica se as colunas esperadas existem\n",
        "if 'Valor1' not in df.columns or 'Valor2' not in df.columns:\n",
        "    print(\"❌ O arquivo CSV não contém as colunas 'Valor1' e 'Valor2'.\")\n",
        "    exit()"
      ],
      "metadata": {
        "id": "flWgtk1VyyZf"
      },
      "execution_count": 45,
      "outputs": []
    },
    {
      "cell_type": "code",
      "source": [
        "# 5 - Função para remover valores fora do intervalo desejado\n",
        "def filtrar_valores(serie):\n",
        "    return serie.where((serie >= VALOR_MIN) & (serie <= VALOR_MAX), other=0)\n",
        "\n",
        "# Aplicar o filtro nas colunas de interesse\n",
        "df['Valor1_filtrado'] = filtrar_valores(df['Valor1'])\n",
        "df['Valor2_filtrado'] = filtrar_valores(df['Valor2'])"
      ],
      "metadata": {
        "id": "O0PhdJCuy0Zf"
      },
      "execution_count": 46,
      "outputs": []
    },
    {
      "cell_type": "code",
      "source": [
        "# 6 - Criar DataFrame apenas com os dados filtrados\n",
        "df_filtrado = df[['Tempo (ms)', 'Valor1_filtrado', 'Valor2_filtrado']]\n"
      ],
      "metadata": {
        "id": "rMUFxSiWy3kv"
      },
      "execution_count": 47,
      "outputs": []
    },
    {
      "cell_type": "code",
      "source": [
        "# 7 - Calcular as médias dos sinais filtrados (desconsiderando zeros)\n",
        "media_valor1 = df_filtrado.loc[df_filtrado['Valor1_filtrado'] != 0, 'Valor1_filtrado'].mean()\n",
        "media_valor2 = df_filtrado.loc[df_filtrado['Valor2_filtrado'] != 0, 'Valor2_filtrado'].mean()\n",
        "\n",
        "# Adicionar colunas de média com o mesmo valor em todas as linhas (útil para gráfico)\n",
        "df_filtrado['Media_Valor1'] = media_valor1\n",
        "df_filtrado['Media_Valor2'] = media_valor2"
      ],
      "metadata": {
        "id": "9r9g2mY7y4j_"
      },
      "execution_count": null,
      "outputs": []
    },
    {
      "cell_type": "code",
      "source": [
        "# 8 - Salvar o novo arquivo CSV com os valores filtrados e médias\n",
        "arquivo_filtrado = 'emg_filtrado.csv'\n",
        "df_filtrado.to_csv(arquivo_filtrado, index=False)"
      ],
      "metadata": {
        "id": "G4NQIdrNy6cn"
      },
      "execution_count": 49,
      "outputs": []
    },
    {
      "cell_type": "code",
      "source": [
        "# 9 - Somar todos os valores do arquivo original (sem filtro)\n",
        "soma_valor1 = df['Valor1'].sum()\n",
        "soma_valor2 = df['Valor2'].sum()\n",
        "\n",
        "# Criar DataFrame com os resultados da soma\n",
        "df_soma = pd.DataFrame({\n",
        "    'Canal': ['Valor1', 'Valor2'],\n",
        "    'Soma': [soma_valor1, soma_valor2]\n",
        "})"
      ],
      "metadata": {
        "id": "9gOO5yl6y_-P"
      },
      "execution_count": 50,
      "outputs": []
    },
    {
      "cell_type": "code",
      "source": [
        "# 10 - Salvar as somas em um novo arquivo CSV\n",
        "arquivo_soma = 'emg_soma.csv'\n",
        "df_soma.to_csv(arquivo_soma, index=False)"
      ],
      "metadata": {
        "id": "PG8pNrRhzDgX"
      },
      "execution_count": 51,
      "outputs": []
    },
    {
      "cell_type": "code",
      "source": [
        "# 11 - Mensagens de sucesso\n",
        "print(\"✅ Processamento concluído.\")\n",
        "print(f\"📁 Arquivo com valores filtrados salvo como: {arquivo_filtrado}\")\n",
        "print(f\"📁 Arquivo com somas dos sinais salvo como: {arquivo_soma}\")\n",
        "print(f\"📊 Média dos valores filtrados - Valor1: {media_valor1:.2f} | Valor2: {media_valor2:.2f}\")\n"
      ],
      "metadata": {
        "id": "km5529zKxb__"
      },
      "execution_count": null,
      "outputs": []
    },
    {
      "cell_type": "code",
      "source": [
        "# 12 - Plotar gráfico dos valores filtrados com as médias\n",
        "plt.figure(figsize=(12, 6))\n",
        "plt.plot(df_filtrado['Tempo (ms)'], df_filtrado['Valor1_filtrado'], label='Valor1 Filtrado', color='blue')\n",
        "plt.plot(df_filtrado['Tempo (ms)'], df_filtrado['Valor2_filtrado'], label='Valor2 Filtrado', color='green')\n",
        "\n",
        "# Adicionar linhas horizontais das médias\n",
        "plt.axhline(y=media_valor1, color='blue', linestyle='--', label=f'Média Valor1: {media_valor1:.2f}')\n",
        "plt.axhline(y=media_valor2, color='green', linestyle='--', label=f'Média Valor2: {media_valor2:.2f}')\n",
        "\n",
        "# Configurações do gráfico\n",
        "plt.title('Sinais Filtrados com Média')\n",
        "plt.xlabel('Tempo (ms)')\n",
        "plt.ylabel('Valor')\n",
        "plt.legend()\n",
        "plt.grid(True)\n",
        "\n",
        "# Salvar o gráfico como imagem PNG\n",
        "arquivo_grafico = 'grafico_emg.png'\n",
        "plt.savefig(arquivo_grafico)\n",
        "plt.close()\n"
      ],
      "metadata": {
        "id": "8xg8PMfchjsY"
      },
      "execution_count": 55,
      "outputs": []
    },
    {
      "cell_type": "code",
      "source": [
        "# 13 - Mensagem de sucesso do gráfico\n",
        "print(f\"🖼️ Gráfico salvo como: {arquivo_grafico}\")"
      ],
      "metadata": {
        "id": "4bvTSslxho-f"
      },
      "execution_count": null,
      "outputs": []
    }
  ],
  "metadata": {
    "colab": {
      "provenance": []
    },
    "kernelspec": {
      "display_name": "Python 3",
      "name": "python3"
    }
  },
  "nbformat": 4,
  "nbformat_minor": 0
}