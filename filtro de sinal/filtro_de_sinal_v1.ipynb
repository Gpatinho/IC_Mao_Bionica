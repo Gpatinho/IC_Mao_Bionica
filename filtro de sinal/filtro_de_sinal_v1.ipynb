{
  "cells": [
    {
      "cell_type": "code",
      "source": [
        "# 1 - Importar bibliotecas necessárias\n",
        "import pandas as pd\n",
        "import os\n",
        "\n",
        "# 2 - Caminho completo para o seu arquivo CSV original\n",
        "# Use duas barras \\\\ ou prefixe com r para evitar erro de 'unicodeescape'\n",
        "caminho_arquivo = r'C:\\Users\\Aluno\\Desktop\\emg_original.csv'\n",
        "\n",
        "# Verifica se o arquivo existe\n",
        "if not os.path.exists(caminho_arquivo):\n",
        "    print(\"❌ Arquivo CSV não encontrado no caminho especificado.\")\n",
        "    exit()\n",
        "\n",
        "# 3 - Definir os valores mínimo e máximo permitidos\n",
        "VALOR_MIN = 10   # você pode ajustar conforme necessário\n",
        "VALOR_MAX = 900  # você pode ajustar conforme necessário\n",
        "\n",
        "# 4 - Ler o arquivo CSV original\n",
        "df = pd.read_csv(caminho_arquivo)\n",
        "\n",
        "# Verifica se as colunas esperadas existem\n",
        "if 'Valor1' not in df.columns or 'Valor2' not in df.columns:\n",
        "    print(\"❌ O arquivo CSV não contém as colunas 'Valor1' e 'Valor2'.\")\n",
        "    exit()\n",
        "\n",
        "# 5 - Função para remover valores fora do intervalo desejado\n",
        "def filtrar_valores(serie):\n",
        "    return serie.where((serie >= VALOR_MIN) & (serie <= VALOR_MAX), other=0)\n",
        "\n",
        "# Aplicar o filtro nas colunas de interesse\n",
        "df['Valor1_filtrado'] = filtrar_valores(df['Valor1'])\n",
        "df['Valor2_filtrado'] = filtrar_valores(df['Valor2'])\n",
        "\n",
        "# 6 - Criar DataFrame apenas com os dados filtrados\n",
        "df_filtrado = df[['Tempo (ms)', 'Valor1_filtrado', 'Valor2_filtrado']]\n",
        "\n",
        "# 7 - Salvar o novo arquivo CSV com os valores filtrados\n",
        "arquivo_filtrado = 'emg_filtrado.csv'\n",
        "df_filtrado.to_csv(arquivo_filtrado, index=False)\n",
        "\n",
        "# 8 - Somar todos os valores do arquivo original (sem filtro)\n",
        "soma_valor1 = df['Valor1'].sum()\n",
        "soma_valor2 = df['Valor2'].sum()\n",
        "\n",
        "# Criar DataFrame com os resultados da soma\n",
        "df_soma = pd.DataFrame({\n",
        "    'Canal': ['Valor1', 'Valor2'],\n",
        "    'Soma': [soma_valor1, soma_valor2]\n",
        "})\n",
        "\n",
        "# 9 - Salvar as somas em um novo arquivo CSV\n",
        "arquivo_soma = 'emg_soma.csv'\n",
        "df_soma.to_csv(arquivo_soma, index=False)\n",
        "\n",
        "# 10 - Mensagens de sucesso\n",
        "print(\"✅ Processamento concluído.\")\n",
        "print(f\"📁 Arquivo com valores filtrados salvo como: {arquivo_filtrado}\")\n",
        "print(f\"📁 Arquivo com somas dos sinais salvo como: {arquivo_soma}\")\n"
      ],
      "metadata": {
        "id": "FBfoLIbkxNQb"
      },
      "execution_count": null,
      "outputs": []
    }
  ],
  "metadata": {
    "colab": {
      "name": "Conheça o Colab",
      "provenance": []
    },
    "kernelspec": {
      "display_name": "Python 3",
      "name": "python3"
    }
  },
  "nbformat": 4,
  "nbformat_minor": 0
}