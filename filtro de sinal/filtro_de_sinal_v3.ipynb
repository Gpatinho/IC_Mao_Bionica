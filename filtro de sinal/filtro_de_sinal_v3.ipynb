{
  "cells": [
    {
      "cell_type": "code",
      "source": [
        "# 1 - Importar bibliotecas\n",
        "import pandas as pd\n",
        "import os"
      ],
      "metadata": {
        "id": "qXy5ZX95-fT5"
      },
      "execution_count": 29,
      "outputs": []
    },
    {
      "cell_type": "code",
      "source": [
        "# 2 - Configurações iniciais\n",
        "\n",
        "# Caminho do arquivo CSV original (ajuste para seu PC)\n",
        "caminho_arquivo = r'/content/flexão-1.csv'\n",
        "\n",
        "# Verificar se o arquivo existe\n",
        "if not os.path.exists(caminho_arquivo):\n",
        "    print(\"❌ Arquivo CSV não encontrado no caminho especificado.\")\n",
        "    exit()\n",
        "\n",
        "# Definir os limites de filtragem\n",
        "VALOR_MIN = 1000\n",
        "VALOR_MAX = 4000\n",
        "\n",
        "# Definir os tempos para as linhas verticais (início e fim)\n",
        "TEMPO_INICIO = 500    # 🔸 Ajuste aqui conforme seu sinal\n",
        "TEMPO_FIM = 2000      # 🔸 Ajuste aqui conforme seu sinal"
      ],
      "metadata": {
        "id": "8jFvwaSF-hbS"
      },
      "execution_count": 30,
      "outputs": []
    },
    {
      "cell_type": "code",
      "source": [
        "# 📑 Parte 3 - Ler arquivo CSV\n",
        "\n",
        "df = pd.read_csv(caminho_arquivo)\n",
        "\n",
        "# Verificar se as colunas esperadas existem\n",
        "if 'Valor1' not in df.columns or 'Valor2' not in df.columns:\n",
        "    print(\"❌ O arquivo CSV não contém as colunas 'Valor1' e 'Valor2'.\")\n",
        "    exit()"
      ],
      "metadata": {
        "id": "oQPXlIX3-rRh"
      },
      "execution_count": 31,
      "outputs": []
    },
    {
      "cell_type": "code",
      "source": [
        "# 4 - Filtrar os valores\n",
        "\n",
        "def filtrar_valores(serie):\n",
        "    return serie.where((serie >= VALOR_MIN) & (serie <= VALOR_MAX), other=0)\n",
        "\n",
        "# Aplicar filtro nas colunas de interesse\n",
        "df['Valor1_filtrado'] = filtrar_valores(df['Valor1'])\n",
        "df['Valor2_filtrado'] = filtrar_valores(df['Valor2'])\n"
      ],
      "metadata": {
        "id": "JHNsEP7g-vap"
      },
      "execution_count": 32,
      "outputs": []
    },
    {
      "cell_type": "code",
      "source": [
        "# 5 - Calcular médias\n",
        "media_valor1 = df['Valor1_filtrado'].mean()\n",
        "media_valor2 = df['Valor2_filtrado'].mean()"
      ],
      "metadata": {
        "id": "tMv2DQVw-7Yx"
      },
      "execution_count": 33,
      "outputs": []
    },
    {
      "cell_type": "code",
      "source": [
        "# 6 - Criar colunas de Média, Início e Fim\n",
        "# Linha da média (constante no tempo)\n",
        "df['Média'] = media_valor1\n",
        "\n",
        "# Linha vertical de Início (valor igual à média no tempo de início, senão vazio)\n",
        "df['Início'] = df['Tempo (ms)'].apply(lambda x: media_valor1 if x == TEMPO_INICIO else \"\")\n",
        "\n",
        "# Linha vertical de Fim (valor igual à média no tempo de fim, senão vazio)\n",
        "df['Fim'] = df['Tempo (ms)'].apply(lambda x: media_valor1 if x == TEMPO_FIM else \"\")"
      ],
      "metadata": {
        "id": "ovlE9aTZ_BMh"
      },
      "execution_count": 34,
      "outputs": []
    },
    {
      "cell_type": "code",
      "source": [
        "#  7 - Salvar tudo no mesmo CSV\n",
        "# Selecionar apenas as colunas importantes\n",
        "df_saida = df[['Tempo (ms)', 'Valor1_filtrado', 'Valor2_filtrado', 'Média', 'Início', 'Fim']]\n",
        "\n",
        "# Caminho para salvar\n",
        "arquivo_saida = r'emg_saida_completa.csv'\n",
        "\n",
        "# Salvar CSV\n",
        "df_saida.to_csv(arquivo_saida, index=False)"
      ],
      "metadata": {
        "id": "WdkaXWEa_GjR"
      },
      "execution_count": 35,
      "outputs": []
    },
    {
      "cell_type": "code",
      "source": [
        "# 8 - Mensagem final\n",
        "print(\"✅ Processamento concluído com sucesso!\")\n",
        "print(f\"📁 Arquivo final com filtragem, média, início e fim salvo em:\")\n",
        "print(f\"➡️ {arquivo_saida}\")\n"
      ],
      "metadata": {
        "id": "4Wwpf-7T-Xoa",
        "outputId": "db3b42e7-f9d1-482e-c792-3f5e59e14ba9",
        "colab": {
          "base_uri": "https://localhost:8080/"
        }
      },
      "execution_count": 36,
      "outputs": [
        {
          "output_type": "stream",
          "name": "stdout",
          "text": [
            "✅ Processamento concluído com sucesso!\n",
            "📁 Arquivo final com filtragem, média, início e fim salvo em:\n",
            "➡️ emg_saida_completa.csv\n"
          ]
        }
      ]
    }
  ],
  "metadata": {
    "colab": {
      "name": "Conheça o Colab",
      "provenance": []
    },
    "kernelspec": {
      "display_name": "Python 3",
      "name": "python3"
    }
  },
  "nbformat": 4,
  "nbformat_minor": 0
}