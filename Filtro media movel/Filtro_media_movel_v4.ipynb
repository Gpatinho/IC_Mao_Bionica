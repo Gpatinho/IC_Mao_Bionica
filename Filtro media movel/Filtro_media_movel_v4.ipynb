{
  "cells": [
    {
      "cell_type": "code",
      "source": [
        "!pip install fpdf"
      ],
      "metadata": {
        "id": "NINPhGmJriJJ",
        "outputId": "aa47c98f-866b-46b8-9bd1-942ce8afd9af",
        "colab": {
          "base_uri": "https://localhost:8080/"
        }
      },
      "execution_count": 19,
      "outputs": [
        {
          "output_type": "stream",
          "name": "stdout",
          "text": [
            "Collecting fpdf\n",
            "  Downloading fpdf-1.7.2.tar.gz (39 kB)\n",
            "  Preparing metadata (setup.py) ... \u001b[?25l\u001b[?25hdone\n",
            "Building wheels for collected packages: fpdf\n",
            "  Building wheel for fpdf (setup.py) ... \u001b[?25l\u001b[?25hdone\n",
            "  Created wheel for fpdf: filename=fpdf-1.7.2-py2.py3-none-any.whl size=40704 sha256=229bee45fd0fdf36bbe109b23302504bdfe362271c2f6accd14e0466fc1c95d3\n",
            "  Stored in directory: /root/.cache/pip/wheels/65/4f/66/bbda9866da446a72e206d6484cd97381cbc7859a7068541c36\n",
            "Successfully built fpdf\n",
            "Installing collected packages: fpdf\n",
            "Successfully installed fpdf-1.7.2\n"
          ]
        }
      ]
    },
    {
      "cell_type": "code",
      "source": [
        "import os\n",
        "import pandas as pd\n",
        "import numpy as np\n",
        "import matplotlib.pyplot as plt\n",
        "from google.colab import files\n",
        "import zipfile\n",
        "from PIL import Image\n",
        "from fpdf import FPDF"
      ],
      "metadata": {
        "id": "XqXS222zq2kD"
      },
      "execution_count": 20,
      "outputs": []
    },
    {
      "cell_type": "code",
      "source": [
        "# 1. Upload dos arquivos CSV\n",
        "uploaded = files.upload()"
      ],
      "metadata": {
        "colab": {
          "base_uri": "https://localhost:8080/",
          "height": 142
        },
        "id": "PEjkRoOsq52h",
        "outputId": "c753ffa9-6e02-4ccb-fc83-e0a38f320449"
      },
      "execution_count": 21,
      "outputs": [
        {
          "output_type": "display_data",
          "data": {
            "text/plain": [
              "<IPython.core.display.HTML object>"
            ],
            "text/html": [
              "\n",
              "     <input type=\"file\" id=\"files-52cccce7-ebd0-4220-85f4-50d1003d1182\" name=\"files[]\" multiple disabled\n",
              "        style=\"border:none\" />\n",
              "     <output id=\"result-52cccce7-ebd0-4220-85f4-50d1003d1182\">\n",
              "      Upload widget is only available when the cell has been executed in the\n",
              "      current browser session. Please rerun this cell to enable.\n",
              "      </output>\n",
              "      <script>// Copyright 2017 Google LLC\n",
              "//\n",
              "// Licensed under the Apache License, Version 2.0 (the \"License\");\n",
              "// you may not use this file except in compliance with the License.\n",
              "// You may obtain a copy of the License at\n",
              "//\n",
              "//      http://www.apache.org/licenses/LICENSE-2.0\n",
              "//\n",
              "// Unless required by applicable law or agreed to in writing, software\n",
              "// distributed under the License is distributed on an \"AS IS\" BASIS,\n",
              "// WITHOUT WARRANTIES OR CONDITIONS OF ANY KIND, either express or implied.\n",
              "// See the License for the specific language governing permissions and\n",
              "// limitations under the License.\n",
              "\n",
              "/**\n",
              " * @fileoverview Helpers for google.colab Python module.\n",
              " */\n",
              "(function(scope) {\n",
              "function span(text, styleAttributes = {}) {\n",
              "  const element = document.createElement('span');\n",
              "  element.textContent = text;\n",
              "  for (const key of Object.keys(styleAttributes)) {\n",
              "    element.style[key] = styleAttributes[key];\n",
              "  }\n",
              "  return element;\n",
              "}\n",
              "\n",
              "// Max number of bytes which will be uploaded at a time.\n",
              "const MAX_PAYLOAD_SIZE = 100 * 1024;\n",
              "\n",
              "function _uploadFiles(inputId, outputId) {\n",
              "  const steps = uploadFilesStep(inputId, outputId);\n",
              "  const outputElement = document.getElementById(outputId);\n",
              "  // Cache steps on the outputElement to make it available for the next call\n",
              "  // to uploadFilesContinue from Python.\n",
              "  outputElement.steps = steps;\n",
              "\n",
              "  return _uploadFilesContinue(outputId);\n",
              "}\n",
              "\n",
              "// This is roughly an async generator (not supported in the browser yet),\n",
              "// where there are multiple asynchronous steps and the Python side is going\n",
              "// to poll for completion of each step.\n",
              "// This uses a Promise to block the python side on completion of each step,\n",
              "// then passes the result of the previous step as the input to the next step.\n",
              "function _uploadFilesContinue(outputId) {\n",
              "  const outputElement = document.getElementById(outputId);\n",
              "  const steps = outputElement.steps;\n",
              "\n",
              "  const next = steps.next(outputElement.lastPromiseValue);\n",
              "  return Promise.resolve(next.value.promise).then((value) => {\n",
              "    // Cache the last promise value to make it available to the next\n",
              "    // step of the generator.\n",
              "    outputElement.lastPromiseValue = value;\n",
              "    return next.value.response;\n",
              "  });\n",
              "}\n",
              "\n",
              "/**\n",
              " * Generator function which is called between each async step of the upload\n",
              " * process.\n",
              " * @param {string} inputId Element ID of the input file picker element.\n",
              " * @param {string} outputId Element ID of the output display.\n",
              " * @return {!Iterable<!Object>} Iterable of next steps.\n",
              " */\n",
              "function* uploadFilesStep(inputId, outputId) {\n",
              "  const inputElement = document.getElementById(inputId);\n",
              "  inputElement.disabled = false;\n",
              "\n",
              "  const outputElement = document.getElementById(outputId);\n",
              "  outputElement.innerHTML = '';\n",
              "\n",
              "  const pickedPromise = new Promise((resolve) => {\n",
              "    inputElement.addEventListener('change', (e) => {\n",
              "      resolve(e.target.files);\n",
              "    });\n",
              "  });\n",
              "\n",
              "  const cancel = document.createElement('button');\n",
              "  inputElement.parentElement.appendChild(cancel);\n",
              "  cancel.textContent = 'Cancel upload';\n",
              "  const cancelPromise = new Promise((resolve) => {\n",
              "    cancel.onclick = () => {\n",
              "      resolve(null);\n",
              "    };\n",
              "  });\n",
              "\n",
              "  // Wait for the user to pick the files.\n",
              "  const files = yield {\n",
              "    promise: Promise.race([pickedPromise, cancelPromise]),\n",
              "    response: {\n",
              "      action: 'starting',\n",
              "    }\n",
              "  };\n",
              "\n",
              "  cancel.remove();\n",
              "\n",
              "  // Disable the input element since further picks are not allowed.\n",
              "  inputElement.disabled = true;\n",
              "\n",
              "  if (!files) {\n",
              "    return {\n",
              "      response: {\n",
              "        action: 'complete',\n",
              "      }\n",
              "    };\n",
              "  }\n",
              "\n",
              "  for (const file of files) {\n",
              "    const li = document.createElement('li');\n",
              "    li.append(span(file.name, {fontWeight: 'bold'}));\n",
              "    li.append(span(\n",
              "        `(${file.type || 'n/a'}) - ${file.size} bytes, ` +\n",
              "        `last modified: ${\n",
              "            file.lastModifiedDate ? file.lastModifiedDate.toLocaleDateString() :\n",
              "                                    'n/a'} - `));\n",
              "    const percent = span('0% done');\n",
              "    li.appendChild(percent);\n",
              "\n",
              "    outputElement.appendChild(li);\n",
              "\n",
              "    const fileDataPromise = new Promise((resolve) => {\n",
              "      const reader = new FileReader();\n",
              "      reader.onload = (e) => {\n",
              "        resolve(e.target.result);\n",
              "      };\n",
              "      reader.readAsArrayBuffer(file);\n",
              "    });\n",
              "    // Wait for the data to be ready.\n",
              "    let fileData = yield {\n",
              "      promise: fileDataPromise,\n",
              "      response: {\n",
              "        action: 'continue',\n",
              "      }\n",
              "    };\n",
              "\n",
              "    // Use a chunked sending to avoid message size limits. See b/62115660.\n",
              "    let position = 0;\n",
              "    do {\n",
              "      const length = Math.min(fileData.byteLength - position, MAX_PAYLOAD_SIZE);\n",
              "      const chunk = new Uint8Array(fileData, position, length);\n",
              "      position += length;\n",
              "\n",
              "      const base64 = btoa(String.fromCharCode.apply(null, chunk));\n",
              "      yield {\n",
              "        response: {\n",
              "          action: 'append',\n",
              "          file: file.name,\n",
              "          data: base64,\n",
              "        },\n",
              "      };\n",
              "\n",
              "      let percentDone = fileData.byteLength === 0 ?\n",
              "          100 :\n",
              "          Math.round((position / fileData.byteLength) * 100);\n",
              "      percent.textContent = `${percentDone}% done`;\n",
              "\n",
              "    } while (position < fileData.byteLength);\n",
              "  }\n",
              "\n",
              "  // All done.\n",
              "  yield {\n",
              "    response: {\n",
              "      action: 'complete',\n",
              "    }\n",
              "  };\n",
              "}\n",
              "\n",
              "scope.google = scope.google || {};\n",
              "scope.google.colab = scope.google.colab || {};\n",
              "scope.google.colab._files = {\n",
              "  _uploadFiles,\n",
              "  _uploadFilesContinue,\n",
              "};\n",
              "})(self);\n",
              "</script> "
            ]
          },
          "metadata": {}
        },
        {
          "output_type": "stream",
          "name": "stdout",
          "text": [
            "Saving dados (1).csv to dados (1) (2).csv\n",
            "Saving dados (2).csv to dados (2) (2).csv\n",
            "Saving dados (3).csv to dados (3).csv\n"
          ]
        }
      ]
    },
    {
      "cell_type": "code",
      "source": [
        "# 2. Criar pastas\n",
        "pasta_imagens = \"/content/imagens_emg\"\n",
        "pasta_pdfs = \"/content/pdfs_emg\"\n",
        "os.makedirs(pasta_imagens, exist_ok=True)\n",
        "os.makedirs(pasta_pdfs, exist_ok=True)"
      ],
      "metadata": {
        "id": "ruSJ9308q8AR"
      },
      "execution_count": 22,
      "outputs": []
    },
    {
      "cell_type": "code",
      "source": [
        "# === Configurações ===\n",
        "usar_normalizacao = True\n",
        "taxa_amostragem = 1000\n",
        "min_duracao_ms = 50"
      ],
      "metadata": {
        "id": "C6njywHNq_ey"
      },
      "execution_count": 23,
      "outputs": []
    },
    {
      "cell_type": "code",
      "source": [
        "# === Funções auxiliares ===\n",
        "def media_movel(sinal, janela):\n",
        "    return np.convolve(sinal, np.ones(janela) / janela, mode='valid')\n",
        "\n",
        "def normalizar(sinal):\n",
        "    return (sinal - np.min(sinal)) / (np.max(sinal) - np.min(sinal))\n"
      ],
      "metadata": {
        "id": "igMBUdntrHFZ"
      },
      "execution_count": 24,
      "outputs": []
    },
    {
      "cell_type": "code",
      "source": [
        "\n",
        "# === Processar cada arquivo ===\n",
        "for nome_arquivo in uploaded.keys():\n",
        "    try:\n",
        "        df = pd.read_csv(nome_arquivo)\n",
        "\n",
        "        tempo = df.iloc[:, 0]\n",
        "        emg1 = df.iloc[:, 1]\n",
        "        emg2 = df.iloc[:, 2]\n",
        "\n",
        "        if usar_normalizacao:\n",
        "            emg1 = normalizar(emg1)\n",
        "            emg2 = normalizar(emg2)\n",
        "\n",
        "        nome_base = os.path.splitext(nome_arquivo)[0].replace(\" \", \"_\").lower()\n",
        "        partes = nome_base.split(\"_\")\n",
        "        movimento = \"_\".join([p for p in partes if not p.isdigit()])\n",
        "        numero_dado = ''.join(filter(str.isdigit, nome_base))\n",
        "\n",
        "        imagens_arquivo = []\n",
        "\n",
        "        # === 3 imagens: janela 5, 10, 20 ===\n",
        "        for janela in [5, 10, 20]:\n",
        "            emg1_f = media_movel(emg1, janela)\n",
        "            emg2_f = media_movel(emg2, janela)\n",
        "            tempo_filt = tempo[janela - 1:]\n",
        "\n",
        "            plt.figure(figsize=(12, 6))\n",
        "\n",
        "            # EMG1\n",
        "            plt.subplot(2, 1, 1)\n",
        "            plt.plot(tempo, emg1, label='EMG1 Original', alpha=0.3)\n",
        "            plt.plot(tempo_filt, emg1_f, label=f'EMG1 Filtro {janela}', color='blue')\n",
        "            plt.title(f\"{nome_base} – EMG1 – Janela {janela}\")\n",
        "            plt.legend()\n",
        "\n",
        "            # EMG2\n",
        "            plt.subplot(2, 1, 2)\n",
        "            plt.plot(tempo, emg2, label='EMG2 Original', alpha=0.3)\n",
        "            plt.plot(tempo_filt, emg2_f, label=f'EMG2 Filtro {janela}', color='green')\n",
        "            plt.title(f\"{nome_base} – EMG2 – Janela {janela}\")\n",
        "            plt.legend()\n",
        "\n",
        "            plt.tight_layout()\n",
        "\n",
        "            nome_img = f\"{movimento}_{numero_dado}_janela_{janela}.png\"\n",
        "            caminho_img = os.path.join(pasta_imagens, nome_img)\n",
        "            plt.savefig(caminho_img, dpi=300)\n",
        "            plt.close()\n",
        "\n",
        "            imagens_arquivo.append(caminho_img)\n",
        "\n",
        "        # === Imagem 4: geral com janelas 5, 10, 20 ===\n",
        "        emg1_filtros = {}\n",
        "        emg2_filtros = {}\n",
        "        tempo_filtros = {}\n",
        "\n",
        "        for janela in [5, 10, 20]:\n",
        "            emg1_f = media_movel(emg1, janela)\n",
        "            emg2_f = media_movel(emg2, janela)\n",
        "            tempo_f = tempo[janela - 1:]\n",
        "            emg1_filtros[janela] = emg1_f\n",
        "            emg2_filtros[janela] = emg2_f\n",
        "            tempo_filtros[janela] = tempo_f\n",
        "\n",
        "        plt.figure(figsize=(12, 6))\n",
        "\n",
        "        # EMG1\n",
        "        plt.subplot(2, 1, 1)\n",
        "        plt.plot(tempo, emg1, label='EMG1 Original', alpha=0.3)\n",
        "        for j in [5, 10, 20]:\n",
        "            plt.plot(tempo_filtros[j], emg1_filtros[j], label=f'Filtro {j}')\n",
        "        plt.title(f\"{nome_base} – EMG1 – Todos os Filtros\")\n",
        "        plt.legend()\n",
        "\n",
        "        # EMG2\n",
        "        plt.subplot(2, 1, 2)\n",
        "        plt.plot(tempo, emg2, label='EMG2 Original', alpha=0.3)\n",
        "        for j in [5, 10, 20]:\n",
        "            plt.plot(tempo_filtros[j], emg2_filtros[j], label=f'Filtro {j}')\n",
        "        plt.title(f\"{nome_base} – EMG2 – Todos os Filtros\")\n",
        "        plt.legend()\n",
        "\n",
        "        plt.tight_layout()\n",
        "\n",
        "        nome_img_geral = f\"{movimento}_{numero_dado}_janela_geral.png\"\n",
        "        caminho_img_geral = os.path.join(pasta_imagens, nome_img_geral)\n",
        "        plt.savefig(caminho_img_geral, dpi=300)\n",
        "        plt.close()\n",
        "\n",
        "        imagens_arquivo.append(caminho_img_geral)\n",
        "\n",
        "        # === Criar PDF com as 4 imagens ===\n",
        "        pdf = FPDF()\n",
        "        for img_path in imagens_arquivo:\n",
        "            pdf.add_page()\n",
        "            pdf.image(img_path, x=10, y=10, w=190)\n",
        "\n",
        "        nome_pdf = f\"{movimento}_{numero_dado}_graficos.pdf\"\n",
        "        caminho_pdf = os.path.join(pasta_pdfs, nome_pdf)\n",
        "        pdf.output(caminho_pdf)\n",
        "\n",
        "        print(f\"📄 PDF gerado: {caminho_pdf}\")\n",
        "\n",
        "    except Exception as e:\n",
        "        print(f\"❌ Erro ao processar {nome_arquivo}: {e}\")"
      ],
      "metadata": {
        "colab": {
          "base_uri": "https://localhost:8080/"
        },
        "id": "S0ru4kZCrBMg",
        "outputId": "28921d6d-719f-475d-bac9-6deaceed1a8c"
      },
      "execution_count": 25,
      "outputs": [
        {
          "output_type": "stream",
          "name": "stdout",
          "text": [
            "📄 PDF gerado: /content/pdfs_emg/dados_(1)_(2)_12_graficos.pdf\n",
            "📄 PDF gerado: /content/pdfs_emg/dados_(2)_(2)_22_graficos.pdf\n",
            "📄 PDF gerado: /content/pdfs_emg/dados_(3)_3_graficos.pdf\n"
          ]
        }
      ]
    },
    {
      "cell_type": "code",
      "source": [
        "# 7. Compactar os PDFs\n",
        "caminho_zip = \"/content/pdfs_emg.zip\"\n",
        "with zipfile.ZipFile(caminho_zip, 'w') as zipf:\n",
        "    for root, _, files_in_dir in os.walk(pasta_pdfs):\n",
        "        for file in files_in_dir:\n",
        "            full_path = os.path.join(root, file)\n",
        "            zipf.write(full_path, arcname=os.path.relpath(full_path, pasta_pdfs))\n",
        "\n",
        "# 8. Download do ZIP com os PDFs\n",
        "files.download(caminho_zip)"
      ],
      "metadata": {
        "colab": {
          "base_uri": "https://localhost:8080/",
          "height": 17
        },
        "id": "96vpdQWprO1Z",
        "outputId": "0b8944b6-2396-4bc3-bde5-fbf7e6eab888"
      },
      "execution_count": 26,
      "outputs": [
        {
          "output_type": "display_data",
          "data": {
            "text/plain": [
              "<IPython.core.display.Javascript object>"
            ],
            "application/javascript": [
              "\n",
              "    async function download(id, filename, size) {\n",
              "      if (!google.colab.kernel.accessAllowed) {\n",
              "        return;\n",
              "      }\n",
              "      const div = document.createElement('div');\n",
              "      const label = document.createElement('label');\n",
              "      label.textContent = `Downloading \"${filename}\": `;\n",
              "      div.appendChild(label);\n",
              "      const progress = document.createElement('progress');\n",
              "      progress.max = size;\n",
              "      div.appendChild(progress);\n",
              "      document.body.appendChild(div);\n",
              "\n",
              "      const buffers = [];\n",
              "      let downloaded = 0;\n",
              "\n",
              "      const channel = await google.colab.kernel.comms.open(id);\n",
              "      // Send a message to notify the kernel that we're ready.\n",
              "      channel.send({})\n",
              "\n",
              "      for await (const message of channel.messages) {\n",
              "        // Send a message to notify the kernel that we're ready.\n",
              "        channel.send({})\n",
              "        if (message.buffers) {\n",
              "          for (const buffer of message.buffers) {\n",
              "            buffers.push(buffer);\n",
              "            downloaded += buffer.byteLength;\n",
              "            progress.value = downloaded;\n",
              "          }\n",
              "        }\n",
              "      }\n",
              "      const blob = new Blob(buffers, {type: 'application/binary'});\n",
              "      const a = document.createElement('a');\n",
              "      a.href = window.URL.createObjectURL(blob);\n",
              "      a.download = filename;\n",
              "      div.appendChild(a);\n",
              "      a.click();\n",
              "      div.remove();\n",
              "    }\n",
              "  "
            ]
          },
          "metadata": {}
        },
        {
          "output_type": "display_data",
          "data": {
            "text/plain": [
              "<IPython.core.display.Javascript object>"
            ],
            "application/javascript": [
              "download(\"download_c14cdf13-6ab9-48b8-98f4-74d7de3f1a57\", \"pdfs_emg.zip\", 4722684)"
            ]
          },
          "metadata": {}
        }
      ]
    },
    {
      "cell_type": "code",
      "metadata": {
        "id": "4e6f1f01"
      },
      "source": [],
      "execution_count": null,
      "outputs": []
    },
    {
      "cell_type": "code",
      "metadata": {
        "id": "b300d976"
      },
      "source": [],
      "execution_count": null,
      "outputs": []
    }
  ],
  "metadata": {
    "colab": {
      "name": "Conheça o Colab",
      "toc_visible": true,
      "provenance": []
    },
    "kernelspec": {
      "display_name": "Python 3",
      "name": "python3"
    }
  },
  "nbformat": 4,
  "nbformat_minor": 0
}