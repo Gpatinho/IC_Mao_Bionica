{
  "cells": [
    {
      "cell_type": "code",
      "source": [
        "import os\n",
        "import pandas as pd\n",
        "import numpy as np\n",
        "import matplotlib.pyplot as plt\n",
        "from google.colab import files\n",
        "import zipfile"
      ],
      "metadata": {
        "id": "FUtEraVJFQHd"
      },
      "execution_count": 3,
      "outputs": []
    },
    {
      "cell_type": "code",
      "source": [
        "# 1. Upload de múltiplos arquivos CSV\n",
        "uploaded = files.upload()"
      ],
      "metadata": {
        "id": "DIEmh89YFTKF"
      },
      "execution_count": null,
      "outputs": []
    },
    {
      "cell_type": "code",
      "source": [
        "# 2. Criar uma pasta para salvar os gráficos\n",
        "pasta_saida = \"/content/graficos_emg\"\n",
        "os.makedirs(pasta_saida, exist_ok=True)"
      ],
      "metadata": {
        "id": "Zu4mkwGFFV_8"
      },
      "execution_count": 5,
      "outputs": []
    },
    {
      "cell_type": "code",
      "source": [
        "# Função do filtro média móvel\n",
        "def media_movel(sinal, janela):\n",
        "    return np.convolve(sinal, np.ones(janela)/janela, mode='valid')"
      ],
      "metadata": {
        "id": "Y91WfuVmFYJV"
      },
      "execution_count": 6,
      "outputs": []
    },
    {
      "cell_type": "code",
      "source": [
        "# 4. Para cada arquivo CSV enviado\n",
        "for nome_arquivo in uploaded.keys():\n",
        "    try:\n",
        "        # Ler o CSV\n",
        "        df = pd.read_csv(nome_arquivo)\n",
        "\n",
        "        # Assumindo 3 colunas: tempo, emg1, emg2\n",
        "        tempo = df.iloc[:, 0]\n",
        "        emg1 = df.iloc[:, 1]\n",
        "        emg2 = df.iloc[:, 2]\n",
        "\n",
        "        # Extrair o nome do dado (ex: \"dados_22\")\n",
        "        nome_base = os.path.splitext(nome_arquivo)[0].replace(\" \", \"_\").lower()  # Ex: dados_(22) -> dados_(22)\n",
        "        numero_dado = ''.join(filter(str.isdigit, nome_base))  # extrai apenas número\n",
        "\n",
        "        # Guardar dados para gráfico combinado\n",
        "        emg1_filtrados = {}\n",
        "        emg2_filtrados = {}\n",
        "\n",
        "        for janela in [5, 10, 20]:\n",
        "            emg1_filtrado = media_movel(emg1, janela)\n",
        "            emg2_filtrado = media_movel(emg2, janela)\n",
        "            tempo_filtrado = tempo[janela - 1:]\n",
        "\n",
        "            # Salva para gráfico geral depois\n",
        "            emg1_filtrados[janela] = (tempo_filtrado, emg1_filtrado)\n",
        "            emg2_filtrados[janela] = (tempo_filtrado, emg2_filtrado)\n",
        "\n",
        "            # Criar gráfico individual\n",
        "            plt.figure(figsize=(12, 6))\n",
        "\n",
        "            plt.subplot(2, 1, 1)\n",
        "            plt.plot(tempo, emg1, label='EMG1 Original', alpha=0.5)\n",
        "            plt.plot(tempo_filtrado, emg1_filtrado, label=f'EMG1 Filtrado (janela {janela})', color='blue')\n",
        "            plt.title(f'EMG1 - Janela {janela}')\n",
        "            plt.legend()\n",
        "\n",
        "            plt.subplot(2, 1, 2)\n",
        "            plt.plot(tempo, emg2, label='EMG2 Original', alpha=0.5)\n",
        "            plt.plot(tempo_filtrado, emg2_filtrado, label=f'EMG2 Filtrado (janela {janela})', color='green')\n",
        "            plt.title(f'EMG2 - Janela {janela}')\n",
        "            plt.legend()\n",
        "\n",
        "            plt.tight_layout()\n",
        "\n",
        "            nome_saida = f\"janela_{janela}_dados_{numero_dado}.png\"\n",
        "            caminho_grafico = os.path.join(pasta_saida, nome_saida)\n",
        "            plt.savefig(caminho_grafico, dpi=300)\n",
        "            plt.close()\n",
        "            print(f\"✅ Gráfico salvo: {caminho_grafico}\")\n",
        "\n",
        "        # Criar gráfico combinado (\"geral\")\n",
        "        plt.figure(figsize=(12, 6))\n",
        "\n",
        "        plt.subplot(2, 1, 1)\n",
        "        plt.plot(tempo, emg1, label=\"Original\", alpha=0.3, color='black')\n",
        "        for janela, (tempo_filt, emg1_filt) in emg1_filtrados.items():\n",
        "            plt.plot(tempo_filt, emg1_filt, label=f\"Janela {janela}\")\n",
        "        plt.title(\"EMG1 - Todas as janelas\")\n",
        "        plt.legend()\n",
        "\n",
        "        plt.subplot(2, 1, 2)\n",
        "        plt.plot(tempo, emg2, label=\"Original\", alpha=0.3, color='black')\n",
        "        for janela, (tempo_filt, emg2_filt) in emg2_filtrados.items():\n",
        "            plt.plot(tempo_filt, emg2_filt, label=f\"Janela {janela}\")\n",
        "        plt.title(\"EMG2 - Todas as janelas\")\n",
        "        plt.legend()\n",
        "\n",
        "        plt.tight_layout()\n",
        "\n",
        "        nome_geral = f\"janela_geral_dados_{numero_dado}.png\"\n",
        "        caminho_geral = os.path.join(pasta_saida, nome_geral)\n",
        "        plt.savefig(caminho_geral, dpi=300)\n",
        "        plt.close()\n",
        "        print(f\"✅ Gráfico geral salvo: {caminho_geral}\")\n",
        "\n",
        "    except Exception as e:\n",
        "        print(f\"❌ Erro no arquivo {nome_arquivo}: {e}\")\n"
      ],
      "metadata": {
        "id": "9dUqLHH6FNZG"
      },
      "execution_count": null,
      "outputs": []
    },
    {
      "cell_type": "code",
      "source": [
        "# 5. Compactar a pasta de saída\n",
        "caminho_zip = \"/content/graficos_emg.zip\"\n",
        "with zipfile.ZipFile(caminho_zip, 'w') as zipf:\n",
        "    for root, _, files_in_dir in os.walk(pasta_saida):\n",
        "        for file in files_in_dir:\n",
        "            full_path = os.path.join(root, file)\n",
        "            zipf.write(full_path, arcname=os.path.relpath(full_path, pasta_saida))\n",
        "\n",
        "# 6. Baixar o arquivo ZIP com todos os gráficos\n",
        "files.download(caminho_zip)"
      ],
      "metadata": {
        "id": "WTdNzA7iFmzc",
        "outputId": "570c662f-c3ab-44ab-9078-a48c651a3d2f",
        "colab": {
          "base_uri": "https://localhost:8080/",
          "height": 17
        }
      },
      "execution_count": 8,
      "outputs": [
        {
          "output_type": "display_data",
          "data": {
            "text/plain": [
              "<IPython.core.display.Javascript object>"
            ],
            "application/javascript": [
              "\n",
              "    async function download(id, filename, size) {\n",
              "      if (!google.colab.kernel.accessAllowed) {\n",
              "        return;\n",
              "      }\n",
              "      const div = document.createElement('div');\n",
              "      const label = document.createElement('label');\n",
              "      label.textContent = `Downloading \"${filename}\": `;\n",
              "      div.appendChild(label);\n",
              "      const progress = document.createElement('progress');\n",
              "      progress.max = size;\n",
              "      div.appendChild(progress);\n",
              "      document.body.appendChild(div);\n",
              "\n",
              "      const buffers = [];\n",
              "      let downloaded = 0;\n",
              "\n",
              "      const channel = await google.colab.kernel.comms.open(id);\n",
              "      // Send a message to notify the kernel that we're ready.\n",
              "      channel.send({})\n",
              "\n",
              "      for await (const message of channel.messages) {\n",
              "        // Send a message to notify the kernel that we're ready.\n",
              "        channel.send({})\n",
              "        if (message.buffers) {\n",
              "          for (const buffer of message.buffers) {\n",
              "            buffers.push(buffer);\n",
              "            downloaded += buffer.byteLength;\n",
              "            progress.value = downloaded;\n",
              "          }\n",
              "        }\n",
              "      }\n",
              "      const blob = new Blob(buffers, {type: 'application/binary'});\n",
              "      const a = document.createElement('a');\n",
              "      a.href = window.URL.createObjectURL(blob);\n",
              "      a.download = filename;\n",
              "      div.appendChild(a);\n",
              "      a.click();\n",
              "      div.remove();\n",
              "    }\n",
              "  "
            ]
          },
          "metadata": {}
        },
        {
          "output_type": "display_data",
          "data": {
            "text/plain": [
              "<IPython.core.display.Javascript object>"
            ],
            "application/javascript": [
              "download(\"download_e9c6d6f1-338c-4735-8ee0-417349a1207c\", \"graficos_emg.zip\", 9679639)"
            ]
          },
          "metadata": {}
        }
      ]
    }
  ],
  "metadata": {
    "colab": {
      "name": "Conheça o Colab",
      "provenance": []
    },
    "kernelspec": {
      "display_name": "Python 3",
      "name": "python3"
    }
  },
  "nbformat": 4,
  "nbformat_minor": 0
}