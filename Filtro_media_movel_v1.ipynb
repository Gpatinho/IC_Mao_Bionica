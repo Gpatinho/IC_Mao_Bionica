{
  "cells": [
    {
      "cell_type": "markdown",
      "source": [
        "Codigo para testar filtro media movente"
      ],
      "metadata": {
        "id": "rXfVPcmO6FUF"
      }
    },
    {
      "cell_type": "markdown",
      "source": [
        "carregar arquivos direto do meu computador :"
      ],
      "metadata": {
        "id": "t9n8N8dz7dH9"
      }
    },
    {
      "cell_type": "code",
      "source": [
        "from google.colab import files\n",
        "uploaded = files.upload()"
      ],
      "metadata": {
        "id": "_CYHMiWC7XBz"
      },
      "execution_count": null,
      "outputs": []
    },
    {
      "cell_type": "code",
      "source": [
        "import pandas as pd\n",
        "import numpy as np\n",
        "import matplotlib.pyplot as plt\n",
        "import zipfile"
      ],
      "metadata": {
        "id": "liDD9-Ed71KT"
      },
      "execution_count": 18,
      "outputs": []
    },
    {
      "cell_type": "code",
      "source": [
        "# 2. Criar uma pasta para salvar os gráficos\n",
        "pasta_saida = \"/content/graficos_emg\"\n",
        "os.makedirs(pasta_saida, exist_ok=True)"
      ],
      "metadata": {
        "id": "F6clN1oRN9pK"
      },
      "execution_count": null,
      "outputs": []
    },
    {
      "cell_type": "code",
      "source": [
        "# Função de média móvel\n",
        "def media_movel(sinal, janela):\n",
        "    return np.convolve(sinal, np.ones(janela)/janela, mode='valid')\n",
        "\n",
        "# Carrega o arquivo enviado\n",
        "nome_arquivo = '/content/dados (2).csv'  # ou use list(uploaded.keys())[0] se não souber o nome\n",
        "dados = pd.read_csv(nome_arquivo)\n",
        "\n",
        "# Visualizar as primeiras linhas (opcional)\n",
        "print(dados.head())\n"
      ],
      "metadata": {
        "id": "TuczbCtG8Bga"
      },
      "execution_count": null,
      "outputs": []
    },
    {
      "cell_type": "code",
      "source": [
        "# Extrair colunas\n",
        "tempo = dados.iloc[:, 0]\n",
        "emg1 = dados.iloc[:, 1]\n",
        "emg2 = dados.iloc[:, 2]\n"
      ],
      "metadata": {
        "id": "2pBQ-jFj8OvL"
      },
      "execution_count": 20,
      "outputs": []
    },
    {
      "cell_type": "code",
      "source": [
        "# Função de média móvel\n",
        "def media_movel(sinal, janela):\n",
        "    return np.convolve(sinal, np.ones(janela)/janela, mode='valid')"
      ],
      "metadata": {
        "id": "o-hAAwuNKnKv"
      },
      "execution_count": 21,
      "outputs": []
    },
    {
      "cell_type": "code",
      "source": [
        "# Plotar resultados\n",
        "plt.figure(figsize=(12, 6))\n",
        "\n",
        "plt.subplot(2, 1, 1)\n",
        "plt.plot(tempo, emg1, label='EMG1 Original', alpha=0.5)\n",
        "plt.plot(tempo_filtrado, emg1_filtrado, label='EMG1 Filtrado', color='blue')\n",
        "plt.title('EMG1 - Média Móvel')\n",
        "plt.legend()\n",
        "\n",
        "plt.subplot(2, 1, 2)\n",
        "plt.plot(tempo, emg2, label='EMG2 Original', alpha=0.5)\n",
        "plt.plot(tempo_filtrado, emg2_filtrado, label='EMG2 Filtrado', color='green')\n",
        "plt.title('EMG2 - Média Móvel')\n",
        "plt.legend()\n",
        "\n",
        "plt.tight_layout()\n",
        "\n",
        "\n",
        "# Salvar como PNG\n",
        "nome_imagem = \"grafico_emg_filtrado.png\"\n",
        "plt.savefig(nome_imagem, dpi=300)\n",
        "plt.close()  # Fecha a figura para garantir que foi salva corretamente\n",
        "\n",
        "# Download automático para seu computador\n",
        "files.download(nome_imagem)\n",
        "\n"
      ],
      "metadata": {
        "id": "ZmMdU2u56D_t",
        "outputId": "70413f04-47ba-4f68-e2a9-9769d27d4343",
        "colab": {
          "base_uri": "https://localhost:8080/",
          "height": 17
        }
      },
      "execution_count": 31,
      "outputs": [
        {
          "output_type": "display_data",
          "data": {
            "text/plain": [
              "<IPython.core.display.Javascript object>"
            ],
            "application/javascript": [
              "\n",
              "    async function download(id, filename, size) {\n",
              "      if (!google.colab.kernel.accessAllowed) {\n",
              "        return;\n",
              "      }\n",
              "      const div = document.createElement('div');\n",
              "      const label = document.createElement('label');\n",
              "      label.textContent = `Downloading \"${filename}\": `;\n",
              "      div.appendChild(label);\n",
              "      const progress = document.createElement('progress');\n",
              "      progress.max = size;\n",
              "      div.appendChild(progress);\n",
              "      document.body.appendChild(div);\n",
              "\n",
              "      const buffers = [];\n",
              "      let downloaded = 0;\n",
              "\n",
              "      const channel = await google.colab.kernel.comms.open(id);\n",
              "      // Send a message to notify the kernel that we're ready.\n",
              "      channel.send({})\n",
              "\n",
              "      for await (const message of channel.messages) {\n",
              "        // Send a message to notify the kernel that we're ready.\n",
              "        channel.send({})\n",
              "        if (message.buffers) {\n",
              "          for (const buffer of message.buffers) {\n",
              "            buffers.push(buffer);\n",
              "            downloaded += buffer.byteLength;\n",
              "            progress.value = downloaded;\n",
              "          }\n",
              "        }\n",
              "      }\n",
              "      const blob = new Blob(buffers, {type: 'application/binary'});\n",
              "      const a = document.createElement('a');\n",
              "      a.href = window.URL.createObjectURL(blob);\n",
              "      a.download = filename;\n",
              "      div.appendChild(a);\n",
              "      a.click();\n",
              "      div.remove();\n",
              "    }\n",
              "  "
            ]
          },
          "metadata": {}
        },
        {
          "output_type": "display_data",
          "data": {
            "text/plain": [
              "<IPython.core.display.Javascript object>"
            ],
            "application/javascript": [
              "download(\"download_f3cdbf9d-bfab-42b1-9eda-d43334e442a8\", \"grafico_emg_filtrado.png\", 584061)"
            ]
          },
          "metadata": {}
        }
      ]
    }
  ],
  "metadata": {
    "colab": {
      "name": "Conheça o Colab",
      "provenance": []
    },
    "kernelspec": {
      "display_name": "Python 3",
      "name": "python3"
    }
  },
  "nbformat": 4,
  "nbformat_minor": 0
}