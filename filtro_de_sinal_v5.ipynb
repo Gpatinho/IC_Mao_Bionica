{
  "cells": [
    {
      "cell_type": "code",
      "source": [
        "import os\n",
        "import pandas as pd\n",
        "import matplotlib.pyplot as plt\n",
        "import numpy as np"
      ],
      "metadata": {
        "id": "Tb9uDAI5l_gt"
      },
      "execution_count": 1,
      "outputs": []
    },
    {
      "cell_type": "code",
      "source": [
        "# ================================\n",
        "# CONFIGURAÇÕES\n",
        "# ================================\n",
        "\n",
        "VALOR_MIN = 500\n",
        "VALOR_MAX = 4000\n",
        "\n",
        "# Caminho da pasta contendo os arquivos CSV originais\n",
        "pasta_entrada = r'/content/dados '  # ← ALTERE AQUI\n",
        "pasta_saida = 'dados_passados_pelo_codigo'\n",
        "pasta_csv = os.path.join(pasta_saida, 'csv_filtrados')\n",
        "pasta_png = os.path.join(pasta_saida, 'graficos_png')\n",
        "\n",
        "# Criar pastas de saída, se não existirem\n",
        "os.makedirs(pasta_csv, exist_ok=True)\n",
        "os.makedirs(pasta_png, exist_ok=True)\n",
        "\n",
        "# Inicializar DataFrame para guardar as somas totais\n",
        "somas_gerais = []\n",
        "\n",
        "# Listar todos os arquivos CSV na pasta de entrada\n",
        "arquivos_csv = [f for f in os.listdir(pasta_entrada) if f.endswith('.csv')]"
      ],
      "metadata": {
        "id": "mGTGAyyOmBtx"
      },
      "execution_count": 4,
      "outputs": []
    },
    {
      "cell_type": "code",
      "source": [
        "# ================================\n",
        "# PROCESSAMENTO DE CADA ARQUIVO\n",
        "# ================================\n",
        "\n",
        "for idx, nome_arquivo in enumerate(arquivos_csv, start=1):\n",
        "    caminho_arquivo = os.path.join(pasta_entrada, nome_arquivo)\n",
        "\n",
        "    try:\n",
        "        df = pd.read_csv(caminho_arquivo)\n",
        "\n",
        "        if 'Valor1' not in df.columns or 'Valor2' not in df.columns:\n",
        "            print(f\"⚠️ Arquivo {nome_arquivo} ignorado (colunas ausentes).\")\n",
        "            continue\n",
        "\n",
        "        # Filtrar valores\n",
        "        def filtrar_valores(serie):\n",
        "            return serie.where((serie >= VALOR_MIN) & (serie <= VALOR_MAX), other=0)\n",
        "\n",
        "        df['Valor1_filtrado'] = filtrar_valores(df['Valor1'])\n",
        "        df['Valor2_filtrado'] = filtrar_valores(df['Valor2'])\n",
        "\n",
        "        df_filtrado = df[['Tempo (ms)', 'Valor1_filtrado', 'Valor2_filtrado']].copy()\n",
        "\n",
        "        # Calcular médias (ignorando zeros)\n",
        "        media_valor1 = df_filtrado.loc[df_filtrado['Valor1_filtrado'] != 0, 'Valor1_filtrado'].mean()\n",
        "        media_valor2 = df_filtrado.loc[df_filtrado['Valor2_filtrado'] != 0, 'Valor2_filtrado'].mean()\n",
        "\n",
        "        df_filtrado['Media_Valor1'] = media_valor1\n",
        "        df_filtrado['Media_Valor2'] = media_valor2\n",
        "\n",
        "        # Calcular somas originais (antes do filtro)\n",
        "        soma_valor1 = df['Valor1'].sum()\n",
        "        soma_valor2 = df['Valor2'].sum()\n",
        "\n",
        "        # Salvar CSV filtrado\n",
        "        nome_saida_csv = f'filtrado_{idx}.csv'\n",
        "        df_filtrado.to_csv(os.path.join(pasta_csv, nome_saida_csv), index=False)\n",
        "\n",
        "        # Salvar gráfico PNG\n",
        "        plt.figure(figsize=(12, 6))\n",
        "        plt.plot(df_filtrado['Tempo (ms)'], df_filtrado['Valor1_filtrado'], label='Valor1 Filtrado', color='blue')\n",
        "        plt.plot(df_filtrado['Tempo (ms)'], df_filtrado['Valor2_filtrado'], label='Valor2 Filtrado', color='green')\n",
        "        plt.axhline(y=media_valor1, color='blue', linestyle='--', label=f'Média Valor1: {media_valor1:.2f}')\n",
        "        plt.axhline(y=media_valor2, color='green', linestyle='--', label=f'Média Valor2: {media_valor2:.2f}')\n",
        "        plt.title(f'Sinais Filtrados - Arquivo {idx}')\n",
        "        plt.xlabel('Tempo (ms)')\n",
        "        plt.ylabel('Valor')\n",
        "        plt.legend()\n",
        "        plt.grid(True)\n",
        "        plt.ylim(0, 4000)\n",
        "        plt.yticks(np.arange(0, 4001, 250))\n",
        "        nome_saida_png = f'grafico_{idx}.png'\n",
        "        plt.savefig(os.path.join(pasta_png, nome_saida_png))\n",
        "        plt.close()\n",
        "\n",
        "        # Armazenar somas em lista\n",
        "        somas_gerais.append({\n",
        "            'Arquivo': nome_arquivo,\n",
        "            'Soma_Valor1': soma_valor1,\n",
        "            'Soma_Valor2': soma_valor2\n",
        "        })\n",
        "\n",
        "        print(f\"✅ Processado: {nome_arquivo} → filtrado_{idx}.csv / grafico_{idx}.png\")\n",
        "\n",
        "    except Exception as e:\n",
        "        print(f\"❌ Erro ao processar {nome_arquivo}: {e}\")\n"
      ],
      "metadata": {
        "id": "W5g0Px8CmFdj"
      },
      "execution_count": null,
      "outputs": []
    },
    {
      "cell_type": "code",
      "source": [
        "# ================================\n",
        "# SALVAR CSV COM TODAS AS SOMAS\n",
        "# ================================\n",
        "\n",
        "df_somas = pd.DataFrame(somas_gerais)\n",
        "df_somas.to_csv(os.path.join(pasta_saida, 'emg_soma.csv'), index=False)\n",
        "\n",
        "print(\"\\n🎉 Todos os arquivos foram processados com sucesso!\")\n",
        "print(f\"📁 CSVs filtrados salvos em: {pasta_csv}\")\n",
        "print(f\"🖼️ Gráficos PNG salvos em: {pasta_png}\")\n",
        "print(f\"📊 Somas salvas em: {os.path.join(pasta_saida, 'emg_soma.csv')}\")\n"
      ],
      "metadata": {
        "id": "GiNqaB36lWP-"
      },
      "execution_count": null,
      "outputs": []
    }
  ],
  "metadata": {
    "colab": {
      "name": "Conheça o Colab",
      "provenance": []
    },
    "kernelspec": {
      "display_name": "Python 3",
      "name": "python3"
    }
  },
  "nbformat": 4,
  "nbformat_minor": 0
}