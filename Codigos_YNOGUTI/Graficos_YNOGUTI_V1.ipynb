{
  "cells": [
    {
      "cell_type": "code",
      "source": [
        "import pandas as pd\n",
        "import matplotlib.pyplot as plt"
      ],
      "metadata": {
        "id": "KbDpJ1urjLJh"
      },
      "execution_count": null,
      "outputs": []
    },
    {
      "cell_type": "code",
      "source": [
        "def plotar_sinais(caminho_arquivo):\n",
        "    # Carrega os dados do arquivo CSV\n",
        "    df = pd.read_csv(caminho_arquivo)\n",
        "\n",
        "    # Renomeia as colunas (ajuste conforme necessário)\n",
        "    df.columns = ['tempo', 'sinal1', 'sinal2']\n",
        "\n",
        "    # Cria os gráficos\n",
        "    plt.figure(figsize=(10, 6))\n",
        "\n",
        "    # Gráfico do Sinal 1\n",
        "    plt.subplot(2, 1, 1)\n",
        "    plt.plot(df['tempo'], df['sinal1'])\n",
        "    plt.title('Sinal 1')\n",
        "    plt.ylabel('Amplitude')\n",
        "\n",
        "    # Gráfico do Sinal 2\n",
        "    plt.subplot(2, 1, 2)\n",
        "    plt.plot(df['tempo'], df['sinal2'])\n",
        "    plt.title('Sinal 2')\n",
        "    plt.xlabel('Tempo (ms)')\n",
        "    plt.ylabel('Amplitude')\n",
        "\n",
        "    plt.tight_layout()\n",
        "    plt.show()\n",
        "\n",
        "# Exemplo de uso\n",
        "plotar_sinais(\"dados (1)_filtrado.csv\")"
      ],
      "metadata": {
        "id": "Byv1jzthjHNo"
      },
      "execution_count": null,
      "outputs": []
    }
  ],
  "metadata": {
    "colab": {
      "name": "Conheça o Colab",
      "toc_visible": true,
      "provenance": []
    },
    "kernelspec": {
      "display_name": "Python 3",
      "name": "python3"
    }
  },
  "nbformat": 4,
  "nbformat_minor": 0
}