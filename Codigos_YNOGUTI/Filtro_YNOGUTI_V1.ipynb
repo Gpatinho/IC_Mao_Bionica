{
  "cells": [
    {
      "cell_type": "code",
      "source": [
        "import pandas as pd\n",
        "import numpy as np"
      ],
      "metadata": {
        "id": "mElr-lpZiycq"
      },
      "execution_count": null,
      "outputs": []
    },
    {
      "cell_type": "code",
      "source": [
        "def aplicar_filtro_media_movel(arquivo_entrada, janela=5):\n",
        "    # Carregar os dados do arquivo CSV\n",
        "    dados = pd.read_csv(arquivo_entrada)\n",
        "\n",
        "    # Aplicar filtro de média móvel para cada coluna de valores\n",
        "    dados['Valor1_filtrado'] = dados['Valor1'].rolling(window=janela, center=True, min_periods=1).mean()\n",
        "    dados['Valor2_filtrado'] = dados['Valor2'].rolling(window=janela, center=True, min_periods=1).mean()\n",
        "\n",
        "    # Criar novo DataFrame com as colunas filtradas\n",
        "    dados_filtrados = pd.DataFrame({\n",
        "        'Tempo (ms)': dados['Tempo (ms)'],\n",
        "        'Valor1_filtrado': dados['Valor1_filtrado'],\n",
        "        'Valor2_filtrado': dados['Valor2_filtrado']\n",
        "    })\n",
        "\n",
        "    # Gerar nome do arquivo de saída\n",
        "    if arquivo_entrada.endswith('.csv'):\n",
        "        arquivo_saida = arquivo_entrada.replace('.csv', '_filtrado.csv')\n",
        "    else:\n",
        "        arquivo_saida = arquivo_entrada + '_filtrado.csv'\n",
        "\n",
        "    # Salvar o arquivo filtrado\n",
        "    dados_filtrados.to_csv(arquivo_saida, index=False)\n",
        "\n",
        "    return arquivo_saida\n",
        "\n",
        "# Exemplo de uso\n",
        "arquivo_entrada = 'dados (1).csv'\n",
        "arquivo_saida = aplicar_filtro_media_movel(arquivo_entrada, janela=21)\n",
        "\n",
        "print(f\"Arquivo filtrado salvo como: {arquivo_saida}\")"
      ],
      "metadata": {
        "id": "mH6WNnEliw8Z"
      },
      "execution_count": null,
      "outputs": []
    }
  ],
  "metadata": {
    "colab": {
      "name": "Conheça o Colab",
      "toc_visible": true,
      "provenance": []
    },
    "kernelspec": {
      "display_name": "Python 3",
      "name": "python3"
    }
  },
  "nbformat": 4,
  "nbformat_minor": 0
}