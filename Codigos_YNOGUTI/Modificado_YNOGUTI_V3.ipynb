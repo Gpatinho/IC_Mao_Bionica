{
  "cells": [
    {
      "cell_type": "code",
      "source": [
        "import os\n",
        "import zipfile\n",
        "import pandas as pd\n",
        "import matplotlib.pyplot as plt\n",
        "from google.colab import files"
      ],
      "metadata": {
        "id": "v82C20yxoIr8"
      },
      "execution_count": 1,
      "outputs": []
    },
    {
      "cell_type": "code",
      "source": [
        "# Pergunta o nome do movimento\n",
        "movimento = input(\"Digite o nome do movimento (ex.: Abrir_Mao, Fechar_Mao, Flexao, Extensao): \")\n"
      ],
      "metadata": {
        "id": "QiD7NKHToJ10",
        "outputId": "89a8e812-1b63-4a05-a9cc-40dd0ab9a657",
        "colab": {
          "base_uri": "https://localhost:8080/"
        }
      },
      "execution_count": 10,
      "outputs": [
        {
          "name": "stdout",
          "output_type": "stream",
          "text": [
            "Digite o nome do movimento (ex.: Abrir_Mao, Fechar_Mao, Flexao, Extensao): Abrir_punho\n"
          ]
        }
      ]
    },
    {
      "cell_type": "code",
      "source": [
        "# Upload dos arquivos CSV\n",
        "uploaded = files.upload()"
      ],
      "metadata": {
        "id": "ASmd5ztEoJtq"
      },
      "execution_count": null,
      "outputs": []
    },
    {
      "cell_type": "code",
      "source": [
        "# Pastas de saída\n",
        "pasta_base = \"/content/Dados_Filtrados\"\n",
        "pasta_csv_base = os.path.join(pasta_base, movimento, \"CSV_Filtrados\")\n",
        "pasta_graficos_base = os.path.join(pasta_base, movimento, \"Graficos\")"
      ],
      "metadata": {
        "id": "QNpkoY5NoJi7"
      },
      "execution_count": 13,
      "outputs": []
    },
    {
      "cell_type": "code",
      "source": [
        "# Cria pastas de janelas\n",
        "janelas = [5, 10, 20]\n",
        "for janela in janelas:\n",
        "    os.makedirs(os.path.join(pasta_csv_base, f\"Janela_{janela}\"), exist_ok=True)\n",
        "    os.makedirs(os.path.join(pasta_graficos_base, f\"Janela_{janela}\"), exist_ok=True)"
      ],
      "metadata": {
        "id": "ECbN49vrodwS"
      },
      "execution_count": 14,
      "outputs": []
    },
    {
      "cell_type": "code",
      "source": [
        "# Função para filtrar e salvar\n",
        "def aplicar_filtro_e_salvar(nome_arquivo, janela):\n",
        "    # Carrega CSV\n",
        "    dados = pd.read_csv(nome_arquivo)\n",
        "\n",
        "    # Checa nome das colunas\n",
        "    if \"Tempo (ms)\" in dados.columns:\n",
        "        tempo_col = \"Tempo (ms)\"\n",
        "    elif \"Tempo\" in dados.columns:\n",
        "        tempo_col = \"Tempo\"\n",
        "    else:\n",
        "        raise KeyError(\"Coluna de tempo não encontrada (esperado: 'Tempo (ms)' ou 'Tempo')\")\n",
        "\n",
        "    # Aplica filtro de média móvel\n",
        "    dados['Valor1_filtrado'] = dados['Valor1'].rolling(window=janela, center=True, min_periods=1).mean()\n",
        "    dados['Valor2_filtrado'] = dados['Valor2'].rolling(window=janela, center=True, min_periods=1).mean()\n",
        "\n",
        "    # Salva CSV filtrado\n",
        "    nome_base = os.path.splitext(os.path.basename(nome_arquivo))[0]\n",
        "    caminho_csv_filtrado = os.path.join(pasta_csv_base, f\"Janela_{janela}\", f\"{nome_base}_filtrado_{janela}.csv\")\n",
        "    dados_filtrados = dados[[tempo_col, 'Valor1_filtrado', 'Valor2_filtrado']]\n",
        "    dados_filtrados.to_csv(caminho_csv_filtrado, index=False)\n",
        "\n",
        "    # Plota gráfico com escala fixa\n",
        "    plt.figure(figsize=(10, 6))\n",
        "\n",
        "    # Sinal 1\n",
        "    plt.subplot(2, 1, 1)\n",
        "    plt.plot(dados[tempo_col], dados['Valor1'], label='Original', alpha=0.4)\n",
        "    plt.plot(dados[tempo_col], dados['Valor1_filtrado'], label=f'Filtrado {janela}', color='blue')\n",
        "    plt.title('Sinal 1')\n",
        "    plt.ylabel('Amplitude')\n",
        "    plt.ylim(0, 4000)  # Escala fixa Y\n",
        "    plt.xlim(0, 2000)  # Escala fixa X\n",
        "    plt.legend()\n",
        "\n",
        "    # Sinal 2\n",
        "    plt.subplot(2, 1, 2)\n",
        "    plt.plot(dados[tempo_col], dados['Valor2'], label='Original', alpha=0.4)\n",
        "    plt.plot(dados[tempo_col], dados['Valor2_filtrado'], label=f'Filtrado {janela}', color='green')\n",
        "    plt.title('Sinal 2')\n",
        "    plt.xlabel('Tempo (ms)')\n",
        "    plt.ylabel('Amplitude')\n",
        "    plt.ylim(0, 4000)  # Escala fixa Y\n",
        "    plt.xlim(0, 2000)  # Escala fixa X\n",
        "    plt.legend()\n",
        "\n",
        "    plt.tight_layout()\n",
        "\n",
        "    # Salva PNG\n",
        "    caminho_imagem = os.path.join(pasta_graficos_base, f\"Janela_{janela}\", f\"{nome_base}_grafico_{janela}.png\")\n",
        "    plt.savefig(caminho_imagem)\n",
        "    plt.close()"
      ],
      "metadata": {
        "id": "BtNHDEcYodXS"
      },
      "execution_count": 15,
      "outputs": []
    },
    {
      "cell_type": "code",
      "source": [
        "# Aplica para todos os arquivos e janelas\n",
        "for nome_arquivo in uploaded.keys():\n",
        "    for janela in janelas:\n",
        "        aplicar_filtro_e_salvar(nome_arquivo, janela)"
      ],
      "metadata": {
        "id": "hUR3uWdqodOa"
      },
      "execution_count": 16,
      "outputs": []
    },
    {
      "cell_type": "code",
      "source": [
        "# Compacta tudo\n",
        "caminho_zip = os.path.join(\"/content\", f\"{movimento}_resultados.zip\")\n",
        "with zipfile.ZipFile(caminho_zip, \"w\") as zipf:\n",
        "    for raiz, _, arquivos in os.walk(pasta_base):\n",
        "        for nome_arquivo in arquivos:\n",
        "            caminho_completo = os.path.join(raiz, nome_arquivo)\n",
        "            caminho_relativo = os.path.relpath(caminho_completo, start=\"/content\")\n",
        "            zipf.write(caminho_completo, arcname=caminho_relativo)"
      ],
      "metadata": {
        "id": "SFeytkPRowEK"
      },
      "execution_count": 17,
      "outputs": []
    },
    {
      "cell_type": "code",
      "source": [
        "# Download ZIP\n",
        "files.download(caminho_zip)"
      ],
      "metadata": {
        "id": "L_11Dw3Sov5D",
        "outputId": "b6fa5731-b4f5-48b9-b413-ee2dcc2bfe15",
        "colab": {
          "base_uri": "https://localhost:8080/",
          "height": 17
        }
      },
      "execution_count": 18,
      "outputs": [
        {
          "output_type": "display_data",
          "data": {
            "text/plain": [
              "<IPython.core.display.Javascript object>"
            ],
            "application/javascript": [
              "\n",
              "    async function download(id, filename, size) {\n",
              "      if (!google.colab.kernel.accessAllowed) {\n",
              "        return;\n",
              "      }\n",
              "      const div = document.createElement('div');\n",
              "      const label = document.createElement('label');\n",
              "      label.textContent = `Downloading \"${filename}\": `;\n",
              "      div.appendChild(label);\n",
              "      const progress = document.createElement('progress');\n",
              "      progress.max = size;\n",
              "      div.appendChild(progress);\n",
              "      document.body.appendChild(div);\n",
              "\n",
              "      const buffers = [];\n",
              "      let downloaded = 0;\n",
              "\n",
              "      const channel = await google.colab.kernel.comms.open(id);\n",
              "      // Send a message to notify the kernel that we're ready.\n",
              "      channel.send({})\n",
              "\n",
              "      for await (const message of channel.messages) {\n",
              "        // Send a message to notify the kernel that we're ready.\n",
              "        channel.send({})\n",
              "        if (message.buffers) {\n",
              "          for (const buffer of message.buffers) {\n",
              "            buffers.push(buffer);\n",
              "            downloaded += buffer.byteLength;\n",
              "            progress.value = downloaded;\n",
              "          }\n",
              "        }\n",
              "      }\n",
              "      const blob = new Blob(buffers, {type: 'application/binary'});\n",
              "      const a = document.createElement('a');\n",
              "      a.href = window.URL.createObjectURL(blob);\n",
              "      a.download = filename;\n",
              "      div.appendChild(a);\n",
              "      a.click();\n",
              "      div.remove();\n",
              "    }\n",
              "  "
            ]
          },
          "metadata": {}
        },
        {
          "output_type": "display_data",
          "data": {
            "text/plain": [
              "<IPython.core.display.Javascript object>"
            ],
            "application/javascript": [
              "download(\"download_80c4c274-7d85-4e56-9f7d-e7d3d832f7b4\", \"Abrir_punho_resultados.zip\", 10025320)"
            ]
          },
          "metadata": {}
        }
      ]
    }
  ],
  "metadata": {
    "colab": {
      "name": "Conheça o Colab",
      "provenance": []
    },
    "kernelspec": {
      "display_name": "Python 3",
      "name": "python3"
    }
  },
  "nbformat": 4,
  "nbformat_minor": 0
}